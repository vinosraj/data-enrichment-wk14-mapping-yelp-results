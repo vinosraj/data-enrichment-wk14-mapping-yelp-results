{
 "cells": [
  {
   "cell_type": "markdown",
   "metadata": {
    "id": "8guYh-VR7nlX"
   },
   "source": [
    "# Mapping Yelp Search Results - Part 1"
   ]
  },
  {
   "cell_type": "markdown",
   "metadata": {},
   "source": [
    "- 04/26/22\n"
   ]
  },
  {
   "cell_type": "markdown",
   "metadata": {},
   "source": [
    "## Obective"
   ]
  },
  {
   "cell_type": "markdown",
   "metadata": {
    "id": "8guYh-VR7nlX"
   },
   "source": [
    "- For this CodeAlong, we will be working with the Yelp API. \n",
    "- You will use the the Yelp API to search your home town for a cuisine type of your choice.\n",
    "- Next class, we will then use Plotly Express to create a map with the Mapbox API to visualize the results.\n",
    "    \n",
    "    "
   ]
  },
  {
   "cell_type": "markdown",
   "metadata": {
    "id": "8guYh-VR7nlX"
   },
   "source": [
    "## Tools You Will Use\n",
    "- Part 1:\n",
    "    - Yelp API:\n",
    "        - Getting Started: \n",
    "            - https://www.yelp.com/developers/documentation/v3/get_started\n",
    "\n",
    "    - `YelpAPI` python package\n",
    "        -  \"YelpAPI\": https://github.com/gfairchild/yelpapi\n",
    "- Part 2:\n",
    "\n",
    "    - Plotly Express: https://plotly.com/python/getting-started/\n",
    "        - With Mapbox API: https://www.mapbox.com/\n",
    "        - `px.scatter_mapbox` [Documentation](https://plotly.com/python/scattermapbox/): \n",
    "\n",
    "\n"
   ]
  },
  {
   "cell_type": "markdown",
   "metadata": {},
   "source": [
    "### Applying Code From\n",
    "- Efficient API Calls Lesson Link: https://login.codingdojo.com/m/376/12529/88078"
   ]
  },
  {
   "cell_type": "code",
   "execution_count": 1,
   "metadata": {},
   "outputs": [],
   "source": [
    "# Standard Imports\n",
    "import numpy as np\n",
    "import pandas as pd\n",
    "import matplotlib.pyplot as plt\n",
    "import seaborn as sns\n",
    "\n",
    "# Additional Imports\n",
    "import os, json, math, time\n",
    "from yelpapi import YelpAPI\n",
    "from tqdm.notebook import tqdm_notebook"
   ]
  },
  {
   "cell_type": "markdown",
   "metadata": {
    "id": "1l3Z-79nBSX9"
   },
   "source": [
    "## 1. Registering for Required APIs"
   ]
  },
  {
   "cell_type": "markdown",
   "metadata": {
    "id": "1l3Z-79nBSX9"
   },
   "source": [
    "\n",
    "- Yelp: https://www.yelp.com/developers/documentation/v3/get_started\n"
   ]
  },
  {
   "cell_type": "markdown",
   "metadata": {},
   "source": [
    "> Check the official API documentation to know what arguments we can search for: https://www.yelp.com/developers/documentation/v3/business_search"
   ]
  },
  {
   "cell_type": "markdown",
   "metadata": {},
   "source": [
    "### Load Credentials and Create Yelp API Object"
   ]
  },
  {
   "cell_type": "code",
   "execution_count": 2,
   "metadata": {
    "ExecuteTime": {
     "end_time": "2022-03-25T18:20:46.629934Z",
     "start_time": "2022-03-25T18:20:45.915864Z"
    },
    "colab": {
     "base_uri": "https://localhost:8080/"
    },
    "id": "xJYqVvNkE36a",
    "outputId": "67798160-dea2-41fc-9040-2b3833efa560"
   },
   "outputs": [
    {
     "data": {
      "text/plain": [
       "dict_keys(['client-id', 'api-key'])"
      ]
     },
     "execution_count": 2,
     "metadata": {},
     "output_type": "execute_result"
    }
   ],
   "source": [
    "# Load API Credentials\n",
    "\n",
    "with open('/Users/vinosraj/.secret/yelp_api.json') as f: #default 'r' default so dont need to add\n",
    "    login = json.load(f)\n",
    "login.keys()\n"
   ]
  },
  {
   "cell_type": "code",
   "execution_count": 3,
   "metadata": {},
   "outputs": [
    {
     "data": {
      "text/plain": [
       "<yelpapi.yelpapi.YelpAPI at 0x7ff321134b50>"
      ]
     },
     "execution_count": 3,
     "metadata": {},
     "output_type": "execute_result"
    }
   ],
   "source": [
    "# Instantiate YelpAPI Variable\n",
    "yelp_api = YelpAPI(login['api-key'], timeout_s=5.0)\n",
    "yelp_api"
   ]
  },
  {
   "cell_type": "markdown",
   "metadata": {},
   "source": [
    "### Define Search Terms and File Paths"
   ]
  },
  {
   "cell_type": "code",
   "execution_count": 4,
   "metadata": {},
   "outputs": [],
   "source": [
    "# set our API call parameters and filename before the first call\n",
    "\n",
    "\n",
    "LOCATION = 'Rochester, MN'\n",
    "TERM = 'Asian'"
   ]
  },
  {
   "cell_type": "code",
   "execution_count": 6,
   "metadata": {},
   "outputs": [],
   "source": [
    "## Specify fodler for saving data\n",
    "FOLDER = \"Data/\"\n",
    "os.makedirs(FOLDER, exist_ok=True)\n"
   ]
  },
  {
   "cell_type": "code",
   "execution_count": 7,
   "metadata": {},
   "outputs": [
    {
     "data": {
      "text/plain": [
       "'Rochester'"
      ]
     },
     "execution_count": 7,
     "metadata": {},
     "output_type": "execute_result"
    }
   ],
   "source": [
    "LOCATION.split(',')[0]"
   ]
  },
  {
   "cell_type": "code",
   "execution_count": 8,
   "metadata": {},
   "outputs": [
    {
     "data": {
      "text/plain": [
       "'Data/Asian_Rochester.json'"
      ]
     },
     "execution_count": 8,
     "metadata": {},
     "output_type": "execute_result"
    }
   ],
   "source": [
    "\n",
    "# Specifying JSON_FILE filename (can include a folder)\n",
    "\n",
    "JSON_FILE = f\"{FOLDER}{TERM}_{LOCATION.split(',')[0]}.json\"\n",
    "JSON_FILE"
   ]
  },
  {
   "cell_type": "markdown",
   "metadata": {},
   "source": [
    "### Check if Json File exists and Create it if it doesn't"
   ]
  },
  {
   "cell_type": "code",
   "execution_count": 11,
   "metadata": {},
   "outputs": [
    {
     "name": "stdout",
     "output_type": "stream",
     "text": [
      "[i] Data/Asian_Rochester.json not found. Saving empty list to file.\n"
     ]
    }
   ],
   "source": [
    "## Check if JSON_FILE exists\n",
    "file_exists = os.path.isfile(JSON_FILE)\n",
    "\n",
    "## If it does not exist: \n",
    "if file_exists == False:\n",
    "\n",
    "    ## CREATE ANY NEEDED FOLDERS\n",
    "    # Get the Folder Name only\n",
    "    folder = os.path.dirname(JSON_FILE)\n",
    "\n",
    "     ## If JSON_FILE included a folder:\n",
    "    if len(folder)>0:\n",
    "        # create the folder\n",
    "        os.makedirs(folder,exist_ok=True)\n",
    "        \n",
    "        \n",
    "    ## INFORM USER AND SAVE EMPTY LIST\n",
    "    print(f\"[i] {JSON_FILE} not found. Saving empty list to file.\")\n",
    "    \n",
    "    \n",
    "    ## save the first page of results\n",
    "    with open(JSON_FILE,'w') as f:\n",
    "        json.dump([],f)  \n",
    "## If it exists, inform user\n",
    "else:\n",
    "    print(f\"[i] {JSON_FILE} already exists.\")"
   ]
  },
  {
   "cell_type": "markdown",
   "metadata": {},
   "source": [
    "### Load JSON FIle and account for previous results"
   ]
  },
  {
   "cell_type": "code",
   "execution_count": 12,
   "metadata": {},
   "outputs": [
    {
     "name": "stdout",
     "output_type": "stream",
     "text": [
      "- 0 previous results found.\n"
     ]
    }
   ],
   "source": [
    "## Load previous results and use len of results for offset\n",
    "with open(JSON_FILE,'r') as f:\n",
    "    previous_results = json.load(f)\n",
    "    \n",
    "## set offset based on previous results\n",
    "n_results = len(previous_results)\n",
    "print(f'- {n_results} previous results found.')\n"
   ]
  },
  {
   "cell_type": "markdown",
   "metadata": {},
   "source": [
    "### Make the first API call to get the first page of data"
   ]
  },
  {
   "cell_type": "markdown",
   "metadata": {},
   "source": [
    "- We will use this first result to check:\n",
    "    - how many total results there are?\n",
    "    - Where is the actual data we want to save?\n",
    "    - how many results do we get at a time?\n"
   ]
  },
  {
   "cell_type": "code",
   "execution_count": 13,
   "metadata": {},
   "outputs": [
    {
     "data": {
      "text/plain": [
       "dict_keys(['businesses', 'total', 'region'])"
      ]
     },
     "execution_count": 13,
     "metadata": {},
     "output_type": "execute_result"
    }
   ],
   "source": [
    "# use our yelp_api variable's search_query method to perform our API call\n",
    "# use our yelp_api variable's search_query method to perform our API call\n",
    "results = yelp_api.search_query(location=LOCATION,\n",
    "                                term=TERM,\n",
    "                             )\n",
    "results.keys()"
   ]
  },
  {
   "cell_type": "code",
   "execution_count": 14,
   "metadata": {
    "ExecuteTime": {
     "end_time": "2022-03-24T20:01:48.867510Z",
     "start_time": "2022-03-24T20:01:48.854746Z"
    },
    "colab": {
     "base_uri": "https://localhost:8080/"
    },
    "id": "Myur3i1KGhPf",
    "outputId": "f447c6f9-596b-41d0-ccda-50af0ce82108"
   },
   "outputs": [
    {
     "data": {
      "text/plain": [
       "76"
      ]
     },
     "execution_count": 14,
     "metadata": {},
     "output_type": "execute_result"
    }
   ],
   "source": [
    "## How many results total?\n",
    "total_results = results['total']\n",
    "total_results"
   ]
  },
  {
   "cell_type": "markdown",
   "metadata": {},
   "source": [
    "- Where is the actual data we want to save?"
   ]
  },
  {
   "cell_type": "code",
   "execution_count": null,
   "metadata": {},
   "outputs": [],
   "source": []
  },
  {
   "cell_type": "code",
   "execution_count": 15,
   "metadata": {},
   "outputs": [
    {
     "data": {
      "text/plain": [
       "20"
      ]
     },
     "execution_count": 15,
     "metadata": {},
     "output_type": "execute_result"
    }
   ],
   "source": [
    "## How many did we get the details for?\n",
    "results_per_page = len(results['businesses'])\n",
    "results_per_page"
   ]
  },
  {
   "cell_type": "markdown",
   "metadata": {},
   "source": [
    "- Calculate how many pages of results needed to cover the total_results"
   ]
  },
  {
   "cell_type": "code",
   "execution_count": 17,
   "metadata": {},
   "outputs": [
    {
     "data": {
      "text/plain": [
       "4"
      ]
     },
     "execution_count": 17,
     "metadata": {},
     "output_type": "execute_result"
    }
   ],
   "source": [
    "# Use math.ceil to round up for the total number of pages of results.\n",
    "n_pages = math.ceil(results['total']/ results_per_page)\n",
    "n_pages"
   ]
  },
  {
   "cell_type": "code",
   "execution_count": 21,
   "metadata": {},
   "outputs": [
    {
     "data": {
      "application/vnd.jupyter.widget-view+json": {
       "model_id": "dfe409e0401b4684bc08ed6fff457b92",
       "version_major": 2,
       "version_minor": 0
      },
      "text/plain": [
       "  0%|          | 0/5 [00:00<?, ?it/s]"
      ]
     },
     "metadata": {},
     "output_type": "display_data"
    }
   ],
   "source": [
    "for i in tqdm_notebook( range(0,n_pages+1)):\n",
    "    ## The block of code we want to TRY to run\n",
    "    try:\n",
    "        time.sleep(.2)   \n",
    "        \n",
    "        ## Read in results in progress file and check the length\n",
    "        ## Load previous resuls and use the len of results as offset\n",
    "        with open(JSON_FILE, 'r') as f:\n",
    "            previous_results = json.load(f)\n",
    "        ## save number of results for to use as offset\n",
    "        n_results = len(previous_results)\n",
    "        ## use n_results as the OFFSET \n",
    "        results = yelp_api.search_query(location=LOCATION,\n",
    "                                    term=TERM, \n",
    "                                    offset=n_results+1)\n",
    "    \n",
    "        ## append new results and save to file\n",
    "        previous_results.extend(results['businesses'])\n",
    "    \n",
    "        #display(previous_results)\n",
    "        with open(JSON_FILE,'w') as f:\n",
    "            json.dump(previous_results,f)\n",
    "    ## What to do if we get an error/exception.\n",
    "    except Expection as e:\n",
    "        print(e)\n",
    "        break\n"
   ]
  },
  {
   "cell_type": "markdown",
   "metadata": {},
   "source": [
    "## Open the Final JSON File with Pandas"
   ]
  },
  {
   "cell_type": "code",
   "execution_count": 23,
   "metadata": {},
   "outputs": [
    {
     "data": {
      "text/html": [
       "<div>\n",
       "<style scoped>\n",
       "    .dataframe tbody tr th:only-of-type {\n",
       "        vertical-align: middle;\n",
       "    }\n",
       "\n",
       "    .dataframe tbody tr th {\n",
       "        vertical-align: top;\n",
       "    }\n",
       "\n",
       "    .dataframe thead th {\n",
       "        text-align: right;\n",
       "    }\n",
       "</style>\n",
       "<table border=\"1\" class=\"dataframe\">\n",
       "  <thead>\n",
       "    <tr style=\"text-align: right;\">\n",
       "      <th></th>\n",
       "      <th>id</th>\n",
       "      <th>alias</th>\n",
       "      <th>name</th>\n",
       "      <th>image_url</th>\n",
       "      <th>is_closed</th>\n",
       "      <th>url</th>\n",
       "      <th>review_count</th>\n",
       "      <th>categories</th>\n",
       "      <th>rating</th>\n",
       "      <th>coordinates</th>\n",
       "      <th>transactions</th>\n",
       "      <th>price</th>\n",
       "      <th>location</th>\n",
       "      <th>phone</th>\n",
       "      <th>display_phone</th>\n",
       "      <th>distance</th>\n",
       "    </tr>\n",
       "  </thead>\n",
       "  <tbody>\n",
       "    <tr>\n",
       "      <th>0</th>\n",
       "      <td>MLjDJR4N-h_6_LBJwnHyLQ</td>\n",
       "      <td>ichi-tokyo-rochester</td>\n",
       "      <td>Ichi Tokyo</td>\n",
       "      <td>https://s3-media4.fl.yelpcdn.com/bphoto/jVMnFE...</td>\n",
       "      <td>False</td>\n",
       "      <td>https://www.yelp.com/biz/ichi-tokyo-rochester?...</td>\n",
       "      <td>168</td>\n",
       "      <td>[{'alias': 'japanese', 'title': 'Japanese'}, {...</td>\n",
       "      <td>4.0</td>\n",
       "      <td>{'latitude': 43.9923896789551, 'longitude': -9...</td>\n",
       "      <td>[delivery, pickup]</td>\n",
       "      <td>$$</td>\n",
       "      <td>{'address1': '102 20th St SE', 'address2': 'St...</td>\n",
       "      <td>+15072882577</td>\n",
       "      <td>(507) 288-2577</td>\n",
       "      <td>3048.998621</td>\n",
       "    </tr>\n",
       "    <tr>\n",
       "      <th>1</th>\n",
       "      <td>q-nxw7sQSdaqQmZcCuiMfQ</td>\n",
       "      <td>pho-chau-rochester</td>\n",
       "      <td>Pho Chau</td>\n",
       "      <td>https://s3-media3.fl.yelpcdn.com/bphoto/uKn8Tu...</td>\n",
       "      <td>False</td>\n",
       "      <td>https://www.yelp.com/biz/pho-chau-rochester?ad...</td>\n",
       "      <td>374</td>\n",
       "      <td>[{'alias': 'vietnamese', 'title': 'Vietnamese'...</td>\n",
       "      <td>4.0</td>\n",
       "      <td>{'latitude': 44.033622, 'longitude': -92.462526}</td>\n",
       "      <td>[delivery, pickup]</td>\n",
       "      <td>$</td>\n",
       "      <td>{'address1': '1014 Broadway Ave N', 'address2'...</td>\n",
       "      <td>+15072813342</td>\n",
       "      <td>(507) 281-3342</td>\n",
       "      <td>2262.723330</td>\n",
       "    </tr>\n",
       "    <tr>\n",
       "      <th>2</th>\n",
       "      <td>JlowEYIonJ-rWLLqQdm_aQ</td>\n",
       "      <td>asia-fusion-rochester-2</td>\n",
       "      <td>Asia Fusion</td>\n",
       "      <td>https://s3-media3.fl.yelpcdn.com/bphoto/Wm86-o...</td>\n",
       "      <td>False</td>\n",
       "      <td>https://www.yelp.com/biz/asia-fusion-rochester...</td>\n",
       "      <td>78</td>\n",
       "      <td>[{'alias': 'asianfusion', 'title': 'Asian Fusi...</td>\n",
       "      <td>4.0</td>\n",
       "      <td>{'latitude': 44.052304, 'longitude': -92.521926}</td>\n",
       "      <td>[delivery, pickup]</td>\n",
       "      <td>$</td>\n",
       "      <td>{'address1': '2711 Commerce Dr NW', 'address2'...</td>\n",
       "      <td>+15072587992</td>\n",
       "      <td>(507) 258-7992</td>\n",
       "      <td>5227.646429</td>\n",
       "    </tr>\n",
       "    <tr>\n",
       "      <th>3</th>\n",
       "      <td>egqrH1I4WGdCZaWMUcWj5Q</td>\n",
       "      <td>thai-pop-rochester</td>\n",
       "      <td>Thai Pop</td>\n",
       "      <td>https://s3-media2.fl.yelpcdn.com/bphoto/7AU9IN...</td>\n",
       "      <td>False</td>\n",
       "      <td>https://www.yelp.com/biz/thai-pop-rochester?ad...</td>\n",
       "      <td>41</td>\n",
       "      <td>[{'alias': 'thai', 'title': 'Thai'}, {'alias':...</td>\n",
       "      <td>4.5</td>\n",
       "      <td>{'latitude': 44.02030690857195, 'longitude': -...</td>\n",
       "      <td>[]</td>\n",
       "      <td>NaN</td>\n",
       "      <td>{'address1': '4 3rd St SW', 'address2': '', 'a...</td>\n",
       "      <td>+15079442025</td>\n",
       "      <td>(507) 944-2025</td>\n",
       "      <td>1288.933944</td>\n",
       "    </tr>\n",
       "    <tr>\n",
       "      <th>4</th>\n",
       "      <td>Oq9fbffSimDnpO3JyiSYvQ</td>\n",
       "      <td>wabi-sabi-rochester</td>\n",
       "      <td>Wabi Sabi</td>\n",
       "      <td>https://s3-media2.fl.yelpcdn.com/bphoto/kMhifd...</td>\n",
       "      <td>False</td>\n",
       "      <td>https://www.yelp.com/biz/wabi-sabi-rochester?a...</td>\n",
       "      <td>7</td>\n",
       "      <td>[{'alias': 'sushi', 'title': 'Sushi Bars'}, {'...</td>\n",
       "      <td>4.0</td>\n",
       "      <td>{'latitude': 44.010489, 'longitude': -92.441017}</td>\n",
       "      <td>[delivery]</td>\n",
       "      <td>NaN</td>\n",
       "      <td>{'address1': '1505 12th St SE', 'address2': ''...</td>\n",
       "      <td>+15072581058</td>\n",
       "      <td>(507) 258-1058</td>\n",
       "      <td>3105.412693</td>\n",
       "    </tr>\n",
       "  </tbody>\n",
       "</table>\n",
       "</div>"
      ],
      "text/plain": [
       "                       id                    alias         name  \\\n",
       "0  MLjDJR4N-h_6_LBJwnHyLQ     ichi-tokyo-rochester   Ichi Tokyo   \n",
       "1  q-nxw7sQSdaqQmZcCuiMfQ       pho-chau-rochester     Pho Chau   \n",
       "2  JlowEYIonJ-rWLLqQdm_aQ  asia-fusion-rochester-2  Asia Fusion   \n",
       "3  egqrH1I4WGdCZaWMUcWj5Q       thai-pop-rochester     Thai Pop   \n",
       "4  Oq9fbffSimDnpO3JyiSYvQ      wabi-sabi-rochester    Wabi Sabi   \n",
       "\n",
       "                                           image_url  is_closed  \\\n",
       "0  https://s3-media4.fl.yelpcdn.com/bphoto/jVMnFE...      False   \n",
       "1  https://s3-media3.fl.yelpcdn.com/bphoto/uKn8Tu...      False   \n",
       "2  https://s3-media3.fl.yelpcdn.com/bphoto/Wm86-o...      False   \n",
       "3  https://s3-media2.fl.yelpcdn.com/bphoto/7AU9IN...      False   \n",
       "4  https://s3-media2.fl.yelpcdn.com/bphoto/kMhifd...      False   \n",
       "\n",
       "                                                 url  review_count  \\\n",
       "0  https://www.yelp.com/biz/ichi-tokyo-rochester?...           168   \n",
       "1  https://www.yelp.com/biz/pho-chau-rochester?ad...           374   \n",
       "2  https://www.yelp.com/biz/asia-fusion-rochester...            78   \n",
       "3  https://www.yelp.com/biz/thai-pop-rochester?ad...            41   \n",
       "4  https://www.yelp.com/biz/wabi-sabi-rochester?a...             7   \n",
       "\n",
       "                                          categories  rating  \\\n",
       "0  [{'alias': 'japanese', 'title': 'Japanese'}, {...     4.0   \n",
       "1  [{'alias': 'vietnamese', 'title': 'Vietnamese'...     4.0   \n",
       "2  [{'alias': 'asianfusion', 'title': 'Asian Fusi...     4.0   \n",
       "3  [{'alias': 'thai', 'title': 'Thai'}, {'alias':...     4.5   \n",
       "4  [{'alias': 'sushi', 'title': 'Sushi Bars'}, {'...     4.0   \n",
       "\n",
       "                                         coordinates        transactions  \\\n",
       "0  {'latitude': 43.9923896789551, 'longitude': -9...  [delivery, pickup]   \n",
       "1   {'latitude': 44.033622, 'longitude': -92.462526}  [delivery, pickup]   \n",
       "2   {'latitude': 44.052304, 'longitude': -92.521926}  [delivery, pickup]   \n",
       "3  {'latitude': 44.02030690857195, 'longitude': -...                  []   \n",
       "4   {'latitude': 44.010489, 'longitude': -92.441017}          [delivery]   \n",
       "\n",
       "  price                                           location         phone  \\\n",
       "0    $$  {'address1': '102 20th St SE', 'address2': 'St...  +15072882577   \n",
       "1     $  {'address1': '1014 Broadway Ave N', 'address2'...  +15072813342   \n",
       "2     $  {'address1': '2711 Commerce Dr NW', 'address2'...  +15072587992   \n",
       "3   NaN  {'address1': '4 3rd St SW', 'address2': '', 'a...  +15079442025   \n",
       "4   NaN  {'address1': '1505 12th St SE', 'address2': ''...  +15072581058   \n",
       "\n",
       "    display_phone     distance  \n",
       "0  (507) 288-2577  3048.998621  \n",
       "1  (507) 281-3342  2262.723330  \n",
       "2  (507) 258-7992  5227.646429  \n",
       "3  (507) 944-2025  1288.933944  \n",
       "4  (507) 258-1058  3105.412693  "
      ]
     },
     "metadata": {},
     "output_type": "display_data"
    },
    {
     "data": {
      "text/html": [
       "<div>\n",
       "<style scoped>\n",
       "    .dataframe tbody tr th:only-of-type {\n",
       "        vertical-align: middle;\n",
       "    }\n",
       "\n",
       "    .dataframe tbody tr th {\n",
       "        vertical-align: top;\n",
       "    }\n",
       "\n",
       "    .dataframe thead th {\n",
       "        text-align: right;\n",
       "    }\n",
       "</style>\n",
       "<table border=\"1\" class=\"dataframe\">\n",
       "  <thead>\n",
       "    <tr style=\"text-align: right;\">\n",
       "      <th></th>\n",
       "      <th>id</th>\n",
       "      <th>alias</th>\n",
       "      <th>name</th>\n",
       "      <th>image_url</th>\n",
       "      <th>is_closed</th>\n",
       "      <th>url</th>\n",
       "      <th>review_count</th>\n",
       "      <th>categories</th>\n",
       "      <th>rating</th>\n",
       "      <th>coordinates</th>\n",
       "      <th>transactions</th>\n",
       "      <th>price</th>\n",
       "      <th>location</th>\n",
       "      <th>phone</th>\n",
       "      <th>display_phone</th>\n",
       "      <th>distance</th>\n",
       "    </tr>\n",
       "  </thead>\n",
       "  <tbody>\n",
       "    <tr>\n",
       "      <th>63</th>\n",
       "      <td>RkgxuYCs_kpRZPMKO9BPCA</td>\n",
       "      <td>cb3-burgers-and-brews-rochester</td>\n",
       "      <td>CB3 Burgers &amp; Brews</td>\n",
       "      <td>https://s3-media2.fl.yelpcdn.com/bphoto/P1iwbN...</td>\n",
       "      <td>False</td>\n",
       "      <td>https://www.yelp.com/biz/cb3-burgers-and-brews...</td>\n",
       "      <td>71</td>\n",
       "      <td>[{'alias': 'newamerican', 'title': 'American (...</td>\n",
       "      <td>2.5</td>\n",
       "      <td>{'latitude': 44.0235141, 'longitude': -92.4682...</td>\n",
       "      <td>[]</td>\n",
       "      <td>$$</td>\n",
       "      <td>{'address1': 'W Center &amp; 4th Ave NW', 'address...</td>\n",
       "      <td>+15073611910</td>\n",
       "      <td>(507) 361-1910</td>\n",
       "      <td>1114.584134</td>\n",
       "    </tr>\n",
       "    <tr>\n",
       "      <th>64</th>\n",
       "      <td>8cYa3RGHozMVCGjr19Tjyw</td>\n",
       "      <td>hy-vee-rochester-3</td>\n",
       "      <td>Hy-Vee</td>\n",
       "      <td>https://s3-media2.fl.yelpcdn.com/bphoto/5XjmFE...</td>\n",
       "      <td>False</td>\n",
       "      <td>https://www.yelp.com/biz/hy-vee-rochester-3?ad...</td>\n",
       "      <td>34</td>\n",
       "      <td>[{'alias': 'grocery', 'title': 'Grocery'}]</td>\n",
       "      <td>3.5</td>\n",
       "      <td>{'latitude': 44.06037, 'longitude': -92.46938}</td>\n",
       "      <td>[delivery, pickup]</td>\n",
       "      <td>$$</td>\n",
       "      <td>{'address1': '500 37th St NW', 'address2': '',...</td>\n",
       "      <td>+15072891815</td>\n",
       "      <td>(507) 289-1815</td>\n",
       "      <td>4816.470627</td>\n",
       "    </tr>\n",
       "    <tr>\n",
       "      <th>65</th>\n",
       "      <td>Fi0gIph_MEgpqnyEliRg8Q</td>\n",
       "      <td>sport-clips-haircuts-of-rochester-windsor-reta...</td>\n",
       "      <td>Sport Clips Haircuts of Rochester Windsor Reta...</td>\n",
       "      <td>https://s3-media3.fl.yelpcdn.com/bphoto/cYpPEV...</td>\n",
       "      <td>False</td>\n",
       "      <td>https://www.yelp.com/biz/sport-clips-haircuts-...</td>\n",
       "      <td>6</td>\n",
       "      <td>[{'alias': 'menshair', 'title': 'Men's Hair Sa...</td>\n",
       "      <td>2.5</td>\n",
       "      <td>{'latitude': 44.0057248677443, 'longitude': -9...</td>\n",
       "      <td>[]</td>\n",
       "      <td>$$$</td>\n",
       "      <td>{'address1': '414 Crossroads Dr', 'address2': ...</td>\n",
       "      <td>+15072813798</td>\n",
       "      <td>(507) 281-3798</td>\n",
       "      <td>1486.461072</td>\n",
       "    </tr>\n",
       "    <tr>\n",
       "      <th>66</th>\n",
       "      <td>sLaEWZ-O_kv7yDfZgkTYVg</td>\n",
       "      <td>panera-bread-rochester-2</td>\n",
       "      <td>Panera Bread</td>\n",
       "      <td>https://s3-media3.fl.yelpcdn.com/bphoto/Tf2LDV...</td>\n",
       "      <td>False</td>\n",
       "      <td>https://www.yelp.com/biz/panera-bread-rocheste...</td>\n",
       "      <td>27</td>\n",
       "      <td>[{'alias': 'sandwiches', 'title': 'Sandwiches'...</td>\n",
       "      <td>3.5</td>\n",
       "      <td>{'latitude': 44.0619979738136, 'longitude': -9...</td>\n",
       "      <td>[delivery, pickup]</td>\n",
       "      <td>$</td>\n",
       "      <td>{'address1': '3780 Market Place Drive NW', 'ad...</td>\n",
       "      <td>+15072809185</td>\n",
       "      <td>(507) 280-9185</td>\n",
       "      <td>5282.627356</td>\n",
       "    </tr>\n",
       "    <tr>\n",
       "      <th>67</th>\n",
       "      <td>t3UmDYtw38D9-NkO00j5eA</td>\n",
       "      <td>buffalo-wild-wings-rochester-2</td>\n",
       "      <td>Buffalo Wild Wings</td>\n",
       "      <td>https://s3-media1.fl.yelpcdn.com/bphoto/p6NpM1...</td>\n",
       "      <td>False</td>\n",
       "      <td>https://www.yelp.com/biz/buffalo-wild-wings-ro...</td>\n",
       "      <td>47</td>\n",
       "      <td>[{'alias': 'chicken_wings', 'title': 'Chicken ...</td>\n",
       "      <td>3.0</td>\n",
       "      <td>{'latitude': 44.0773649, 'longitude': -92.5159...</td>\n",
       "      <td>[]</td>\n",
       "      <td>$$</td>\n",
       "      <td>{'address1': '3458 55th St NW', 'address2': ''...</td>\n",
       "      <td>+15075360717</td>\n",
       "      <td>(507) 536-0717</td>\n",
       "      <td>7344.422481</td>\n",
       "    </tr>\n",
       "  </tbody>\n",
       "</table>\n",
       "</div>"
      ],
      "text/plain": [
       "                        id                                              alias  \\\n",
       "63  RkgxuYCs_kpRZPMKO9BPCA                    cb3-burgers-and-brews-rochester   \n",
       "64  8cYa3RGHozMVCGjr19Tjyw                                 hy-vee-rochester-3   \n",
       "65  Fi0gIph_MEgpqnyEliRg8Q  sport-clips-haircuts-of-rochester-windsor-reta...   \n",
       "66  sLaEWZ-O_kv7yDfZgkTYVg                           panera-bread-rochester-2   \n",
       "67  t3UmDYtw38D9-NkO00j5eA                     buffalo-wild-wings-rochester-2   \n",
       "\n",
       "                                                 name  \\\n",
       "63                                CB3 Burgers & Brews   \n",
       "64                                             Hy-Vee   \n",
       "65  Sport Clips Haircuts of Rochester Windsor Reta...   \n",
       "66                                       Panera Bread   \n",
       "67                                 Buffalo Wild Wings   \n",
       "\n",
       "                                            image_url  is_closed  \\\n",
       "63  https://s3-media2.fl.yelpcdn.com/bphoto/P1iwbN...      False   \n",
       "64  https://s3-media2.fl.yelpcdn.com/bphoto/5XjmFE...      False   \n",
       "65  https://s3-media3.fl.yelpcdn.com/bphoto/cYpPEV...      False   \n",
       "66  https://s3-media3.fl.yelpcdn.com/bphoto/Tf2LDV...      False   \n",
       "67  https://s3-media1.fl.yelpcdn.com/bphoto/p6NpM1...      False   \n",
       "\n",
       "                                                  url  review_count  \\\n",
       "63  https://www.yelp.com/biz/cb3-burgers-and-brews...            71   \n",
       "64  https://www.yelp.com/biz/hy-vee-rochester-3?ad...            34   \n",
       "65  https://www.yelp.com/biz/sport-clips-haircuts-...             6   \n",
       "66  https://www.yelp.com/biz/panera-bread-rocheste...            27   \n",
       "67  https://www.yelp.com/biz/buffalo-wild-wings-ro...            47   \n",
       "\n",
       "                                           categories  rating  \\\n",
       "63  [{'alias': 'newamerican', 'title': 'American (...     2.5   \n",
       "64         [{'alias': 'grocery', 'title': 'Grocery'}]     3.5   \n",
       "65  [{'alias': 'menshair', 'title': 'Men's Hair Sa...     2.5   \n",
       "66  [{'alias': 'sandwiches', 'title': 'Sandwiches'...     3.5   \n",
       "67  [{'alias': 'chicken_wings', 'title': 'Chicken ...     3.0   \n",
       "\n",
       "                                          coordinates        transactions  \\\n",
       "63  {'latitude': 44.0235141, 'longitude': -92.4682...                  []   \n",
       "64     {'latitude': 44.06037, 'longitude': -92.46938}  [delivery, pickup]   \n",
       "65  {'latitude': 44.0057248677443, 'longitude': -9...                  []   \n",
       "66  {'latitude': 44.0619979738136, 'longitude': -9...  [delivery, pickup]   \n",
       "67  {'latitude': 44.0773649, 'longitude': -92.5159...                  []   \n",
       "\n",
       "   price                                           location         phone  \\\n",
       "63    $$  {'address1': 'W Center & 4th Ave NW', 'address...  +15073611910   \n",
       "64    $$  {'address1': '500 37th St NW', 'address2': '',...  +15072891815   \n",
       "65   $$$  {'address1': '414 Crossroads Dr', 'address2': ...  +15072813798   \n",
       "66     $  {'address1': '3780 Market Place Drive NW', 'ad...  +15072809185   \n",
       "67    $$  {'address1': '3458 55th St NW', 'address2': ''...  +15075360717   \n",
       "\n",
       "     display_phone     distance  \n",
       "63  (507) 361-1910  1114.584134  \n",
       "64  (507) 289-1815  4816.470627  \n",
       "65  (507) 281-3798  1486.461072  \n",
       "66  (507) 280-9185  5282.627356  \n",
       "67  (507) 536-0717  7344.422481  "
      ]
     },
     "metadata": {},
     "output_type": "display_data"
    }
   ],
   "source": [
    "df = pd.read_json(JSON_FILE)\n",
    "display(df.head(), df.tail())"
   ]
  },
  {
   "cell_type": "code",
   "execution_count": 24,
   "metadata": {},
   "outputs": [
    {
     "data": {
      "text/plain": [
       "0"
      ]
     },
     "execution_count": 24,
     "metadata": {},
     "output_type": "execute_result"
    }
   ],
   "source": [
    "df.duplicated(subset='id').sum()"
   ]
  },
  {
   "cell_type": "code",
   "execution_count": 29,
   "metadata": {},
   "outputs": [
    {
     "data": {
      "text/plain": [
       "'Data/Asian_Rochester.csv.gz'"
      ]
     },
     "execution_count": 29,
     "metadata": {},
     "output_type": "execute_result"
    }
   ],
   "source": [
    "## convert the filename to a .csv.gz\n",
    "csv_file = JSON_FILE.replace('.json','.csv.gz')\n",
    "csv_file"
   ]
  },
  {
   "cell_type": "code",
   "execution_count": 31,
   "metadata": {},
   "outputs": [],
   "source": [
    "## Save it as a compressed csv (to save space)\n",
    "df.to_csv(csv_file, compression='gzip',\n",
    "                index=False)"
   ]
  },
  {
   "cell_type": "markdown",
   "metadata": {},
   "source": [
    "## Bonus: compare filesize with os module's `os.path.getsize`"
   ]
  },
  {
   "cell_type": "code",
   "execution_count": 32,
   "metadata": {},
   "outputs": [
    {
     "name": "stdout",
     "output_type": "stream",
     "text": [
      "JSON FILE: 66,128 Bytes\n",
      "CSV.GZ FILE: 9,968 Bytes\n",
      "the csv.gz is 6.634028892455858 times smaller!\n"
     ]
    }
   ],
   "source": [
    "size_json = os.path.getsize(JSON_FILE)\n",
    "size_csv_gz = os.path.getsize(JSON_FILE.replace('.json','.csv.gz'))##is csv_file =JSON_FILE.replace('.json','.csv.gz')\n",
    "\n",
    "print(f'JSON FILE: {size_json:,} Bytes')\n",
    "print(f'CSV.GZ FILE: {size_csv_gz:,} Bytes')\n",
    "\n",
    "print(f'the csv.gz is {size_json/size_csv_gz} times smaller!')"
   ]
  },
  {
   "cell_type": "markdown",
   "metadata": {
    "heading_collapsed": true
   },
   "source": [
    "## Next Class: Processing the Results and Mapping "
   ]
  }
 ],
 "metadata": {
  "colab": {
   "collapsed_sections": [],
   "name": "Test Yelp API Package.ipynb",
   "provenance": []
  },
  "kernelspec": {
   "display_name": "Python (dojo-env)",
   "language": "python",
   "name": "dojo-env"
  },
  "language_info": {
   "codemirror_mode": {
    "name": "ipython",
    "version": 3
   },
   "file_extension": ".py",
   "mimetype": "text/x-python",
   "name": "python",
   "nbconvert_exporter": "python",
   "pygments_lexer": "ipython3",
   "version": "3.7.12"
  },
  "toc": {
   "base_numbering": 1,
   "nav_menu": {},
   "number_sections": false,
   "sideBar": true,
   "skip_h1_title": false,
   "title_cell": "Table of Contents",
   "title_sidebar": "Contents",
   "toc_cell": false,
   "toc_position": {},
   "toc_section_display": true,
   "toc_window_display": true
  }
 },
 "nbformat": 4,
 "nbformat_minor": 1
}
